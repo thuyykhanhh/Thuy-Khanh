{
 "cells": [
  {
   "cell_type": "code",
   "execution_count": 1,
   "id": "1bf41c57",
   "metadata": {},
   "outputs": [],
   "source": [
    "# cài đặt thư viện cần thiết\n",
    "# !pip install sklearn fuzzy-c-means\n",
    "# load thư viện cần thiết\n",
    "import pandas as pd\n",
    "import numpy as np\n",
    "import matplotlib.pyplot as plt\n",
    "from sklearn.cluster import KMeans\n",
    "from sklearn.metrics import silhouette_score\n",
    "from fcmeans import FCM\n",
    "import pickle\n",
    "# random state\n",
    "rs = 12"
   ]
  },
  {
   "cell_type": "code",
   "execution_count": 2,
   "id": "e20e8992",
   "metadata": {},
   "outputs": [
    {
     "data": {
      "text/html": [
       "<div>\n",
       "<style scoped>\n",
       "    .dataframe tbody tr th:only-of-type {\n",
       "        vertical-align: middle;\n",
       "    }\n",
       "\n",
       "    .dataframe tbody tr th {\n",
       "        vertical-align: top;\n",
       "    }\n",
       "\n",
       "    .dataframe thead th {\n",
       "        text-align: right;\n",
       "    }\n",
       "</style>\n",
       "<table border=\"1\" class=\"dataframe\">\n",
       "  <thead>\n",
       "    <tr style=\"text-align: right;\">\n",
       "      <th></th>\n",
       "      <th>variable</th>\n",
       "      <th>weight</th>\n",
       "    </tr>\n",
       "  </thead>\n",
       "  <tbody>\n",
       "    <tr>\n",
       "      <th>0</th>\n",
       "      <td>Recency</td>\n",
       "      <td>0.137</td>\n",
       "    </tr>\n",
       "    <tr>\n",
       "      <th>1</th>\n",
       "      <td>Frequency</td>\n",
       "      <td>0.328</td>\n",
       "    </tr>\n",
       "    <tr>\n",
       "      <th>2</th>\n",
       "      <td>Moneytary</td>\n",
       "      <td>0.535</td>\n",
       "    </tr>\n",
       "  </tbody>\n",
       "</table>\n",
       "</div>"
      ],
      "text/plain": [
       "    variable  weight\n",
       "0    Recency   0.137\n",
       "1  Frequency   0.328\n",
       "2  Moneytary   0.535"
      ]
     },
     "execution_count": 2,
     "metadata": {},
     "output_type": "execute_result"
    }
   ],
   "source": [
    "# đọc dữ liệu\n",
    "df = pd.read_csv('../../data/rfm_data.csv')\n",
    "# load trọng số lên\n",
    "rfm_weight = pd.read_csv('../../data/rfm_weight.csv')\n",
    "rfm_weight"
   ]
  },
  {
   "cell_type": "code",
   "execution_count": 3,
   "id": "0f9d6113",
   "metadata": {},
   "outputs": [],
   "source": [
    "# Retrieval RFM weights\n",
    "w = rfm_weight.set_index('variable').to_dict()['weight']\n",
    "# weighted RFM\n",
    "df.iloc[:, 1:] = df.iloc[:, 1:].apply(lambda x: x * w[x.name])\n"
   ]
  },
  {
   "cell_type": "markdown",
   "id": "df553038",
   "metadata": {},
   "source": [
    "## Chuẩn bị dữ liệu"
   ]
  },
  {
   "cell_type": "code",
   "execution_count": 4,
   "id": "5a83d0fa",
   "metadata": {},
   "outputs": [
    {
     "data": {
      "text/plain": [
       "(array([101000281, 101000282, 101000283, ..., 106000306, 106001293,\n",
       "        106001527]),\n",
       " array([[0.02213077, 0.0033641 , 0.09640134],\n",
       "        [0.08536154, 0.00168205, 0.03321054],\n",
       "        [0.02529231, 0.00252308, 0.03592002],\n",
       "        ...,\n",
       "        [0.03688462, 0.00084103, 0.0136741 ],\n",
       "        [0.0274    , 0.        , 0.01963496],\n",
       "        [0.10749231, 0.        , 0.00385662]]))"
      ]
     },
     "execution_count": 4,
     "metadata": {},
     "output_type": "execute_result"
    }
   ],
   "source": [
    "cust_id = df.iloc[:, 0].values\n",
    "X = df.iloc[:, 1:].values\n",
    "cust_id, X"
   ]
  },
  {
   "cell_type": "markdown",
   "id": "ea3fdf57",
   "metadata": {},
   "source": [
    "# Phân cụm"
   ]
  },
  {
   "cell_type": "markdown",
   "id": "c32821b4",
   "metadata": {},
   "source": [
    "## KMeans"
   ]
  },
  {
   "cell_type": "code",
   "execution_count": 5,
   "id": "8b607732",
   "metadata": {},
   "outputs": [
    {
     "data": {
      "text/plain": [
       "array([3])"
      ]
     },
     "execution_count": 5,
     "metadata": {},
     "output_type": "execute_result"
    }
   ],
   "source": [
    "# dùng thang đo silhouette để chọn số cụm\n",
    "# để số cụm từ 2 -> 10\n",
    "range_k = np.arange(3, 4)\n",
    "range_k"
   ]
  },
  {
   "cell_type": "code",
   "execution_count": 6,
   "id": "24b48f01",
   "metadata": {},
   "outputs": [],
   "source": [
    "def make_kmean(k: int):\n",
    "    model = KMeans(n_clusters=k, random_state=rs)\n",
    "    model.fit(X)\n",
    "    cluster_labels = model.predict(X)\n",
    "    sil_score = silhouette_score(X, cluster_labels)\n",
    "    print(f\"K: {k} done\")\n",
    "    return dict(\n",
    "        k=k,\n",
    "        cluster_labels=cluster_labels,\n",
    "        sil_score=sil_score\n",
    "    )"
   ]
  },
  {
   "cell_type": "code",
   "execution_count": 7,
   "id": "8b3f5d81",
   "metadata": {},
   "outputs": [
    {
     "name": "stdout",
     "output_type": "stream",
     "text": [
      "K: 3 done\n"
     ]
    }
   ],
   "source": [
    "kmean_final_cluster = [make_kmean(k) for k in range_k]"
   ]
  },
  {
   "cell_type": "markdown",
   "id": "758db16d",
   "metadata": {},
   "source": [
    "Plot kmeans model"
   ]
  },
  {
   "cell_type": "code",
   "execution_count": 8,
   "id": "386446f1-41af-4194-8559-eead181e8690",
   "metadata": {},
   "outputs": [
    {
     "data": {
      "image/png": "[encoded data removed]",
      "text/plain": [
       "<Figure size 432x288 with 1 Axes>"
      ]
     },
     "metadata": {
      "needs_background": "light"
     },
     "output_type": "display_data"
    }
   ],
   "source": [
    "sil_scores = np.array([i['sil_score'] for i in kmean_final_cluster])\n",
    "plt.plot(range_k, sil_scores)\n",
    "plt.scatter(range_k, sil_scores)\n",
    "plt.xlabel('Number of clusters')\n",
    "plt.ylabel('Silhouette score')\n",
    "plt.savefig('Kmean sil plot.png')\n",
    "plt.show()"
   ]
  },
  {
   "cell_type": "code",
   "execution_count": 9,
   "id": "1f4ee77d",
   "metadata": {},
   "outputs": [
    {
     "data": {
      "text/plain": [
       "[{'k': 3,\n",
       "  'cluster_labels': array([2, 0, 1, ..., 1, 1, 0], dtype=int32),\n",
       "  'sil_score': 0.6167014908687777}]"
      ]
     },
     "execution_count": 9,
     "metadata": {},
     "output_type": "execute_result"
    }
   ],
   "source": [
    "#Sort out the best value according to the decreasing \n",
    "sorted_kmean_final_cluster = sorted(kmean_final_cluster, key=lambda x: x['sil_score'], reverse=True)\n",
    "sorted_kmean_final_cluster"
   ]
  },
  {
   "cell_type": "code",
   "execution_count": 10,
   "id": "c6b258e5",
   "metadata": {},
   "outputs": [
    {
     "name": "stdout",
     "output_type": "stream",
     "text": [
      "Số cụm tốt nhất cho KMeans là 3 với giá trị sihouette: 0.6167014908687777\n"
     ]
    }
   ],
   "source": [
    "# Take the best model with the largest sihouette score\n",
    "best_k_kmean = sorted_kmean_final_cluster[0]['k']\n",
    "kmean_cluster_labels = sorted_kmean_final_cluster[0]['cluster_labels']\n",
    "kmean_sil_score = sorted_kmean_final_cluster[0]['sil_score']\n",
    "print(f'Số cụm tốt nhất cho KMeans là {best_k_kmean} với giá trị sihouette: {kmean_sil_score}')"
   ]
  },
  {
   "cell_type": "code",
   "execution_count": 11,
   "id": "6310fdb6-130b-4008-92f6-dd5af268a7af",
   "metadata": {},
   "outputs": [
    {
     "name": "stdout",
     "output_type": "stream",
     "text": [
      "Chạy model với K = 3 cho K Means\n"
     ]
    }
   ],
   "source": [
    "# Recluster the model\n",
    "best_k_kmean = 3\n",
    "print(f\"Chạy model với K = {best_k_kmean} cho K Means\")\n",
    "kmean_model = KMeans(n_clusters=best_k_kmean, random_state=rs)\n",
    "kmean_model.fit(X)\n",
    "\n",
    "# Save the model\n",
    "with open('../../data/kmean_model.pkl', 'wb') as f:\n",
    "    pickle.dump(kmean_model, f, pickle.HIGHEST_PROTOCOL)\n",
    "\n",
    "kmean_cluster_df = pd.DataFrame(\n",
    "    {'User number': cust_id, 'Cluster Label': kmean_cluster_labels}\n",
    ")\n",
    "df_merged_kmean = df.merge(kmean_cluster_df, on='User number')\n",
    "df_merged_kmean.to_csv('../../data/cluster_kmeans.csv', index=False)"
   ]
  },
  {
   "cell_type": "code",
   "execution_count": 12,
   "id": "8b3d1e2f-48e4-41a0-8ef8-27abc3cd8a9e",
   "metadata": {},
   "outputs": [
    {
     "name": "stdout",
     "output_type": "stream",
     "text": [
      "Trung bình giá trị trên mỗi cụm của KMeans\n"
     ]
    },
    {
     "data": {
      "text/html": [
       "<div>\n",
       "<style scoped>\n",
       "    .dataframe tbody tr th:only-of-type {\n",
       "        vertical-align: middle;\n",
       "    }\n",
       "\n",
       "    .dataframe tbody tr th {\n",
       "        vertical-align: top;\n",
       "    }\n",
       "\n",
       "    .dataframe thead th {\n",
       "        text-align: right;\n",
       "    }\n",
       "</style>\n",
       "<table border=\"1\" class=\"dataframe\">\n",
       "  <thead>\n",
       "    <tr style=\"text-align: right;\">\n",
       "      <th></th>\n",
       "      <th>Recency</th>\n",
       "      <th>Frequency</th>\n",
       "      <th>Moneytary</th>\n",
       "    </tr>\n",
       "    <tr>\n",
       "      <th>Cluster Label</th>\n",
       "      <th></th>\n",
       "      <th></th>\n",
       "      <th></th>\n",
       "    </tr>\n",
       "  </thead>\n",
       "  <tbody>\n",
       "    <tr>\n",
       "      <th>0</th>\n",
       "      <td>0.100845</td>\n",
       "      <td>0.000249</td>\n",
       "      <td>0.008121</td>\n",
       "    </tr>\n",
       "    <tr>\n",
       "      <th>1</th>\n",
       "      <td>0.029386</td>\n",
       "      <td>0.001113</td>\n",
       "      <td>0.008744</td>\n",
       "    </tr>\n",
       "    <tr>\n",
       "      <th>2</th>\n",
       "      <td>0.040864</td>\n",
       "      <td>0.014224</td>\n",
       "      <td>0.166986</td>\n",
       "    </tr>\n",
       "  </tbody>\n",
       "</table>\n",
       "</div>"
      ],
      "text/plain": [
       "                Recency  Frequency  Moneytary\n",
       "Cluster Label                                \n",
       "0              0.100845   0.000249   0.008121\n",
       "1              0.029386   0.001113   0.008744\n",
       "2              0.040864   0.014224   0.166986"
      ]
     },
     "execution_count": 12,
     "metadata": {},
     "output_type": "execute_result"
    }
   ],
   "source": [
    "print(\"Trung bình giá trị trên mỗi cụm của KMeans\")\n",
    "df_merged_kmean.groupby('Cluster Label').mean().iloc[:, 1:]"
   ]
  },
  {
   "cell_type": "code",
   "execution_count": 13,
   "id": "aa46bbe2-6144-4463-ba09-78d68b34845c",
   "metadata": {},
   "outputs": [
    {
     "name": "stdout",
     "output_type": "stream",
     "text": [
      "Số lượng khách hàng mỗi cụm\n"
     ]
    },
    {
     "data": {
      "text/html": [
       "<div>\n",
       "<style scoped>\n",
       "    .dataframe tbody tr th:only-of-type {\n",
       "        vertical-align: middle;\n",
       "    }\n",
       "\n",
       "    .dataframe tbody tr th {\n",
       "        vertical-align: top;\n",
       "    }\n",
       "\n",
       "    .dataframe thead th {\n",
       "        text-align: right;\n",
       "    }\n",
       "</style>\n",
       "<table border=\"1\" class=\"dataframe\">\n",
       "  <thead>\n",
       "    <tr style=\"text-align: right;\">\n",
       "      <th></th>\n",
       "      <th>User number</th>\n",
       "    </tr>\n",
       "    <tr>\n",
       "      <th>Cluster Label</th>\n",
       "      <th></th>\n",
       "    </tr>\n",
       "  </thead>\n",
       "  <tbody>\n",
       "    <tr>\n",
       "      <th>0</th>\n",
       "      <td>3654</td>\n",
       "    </tr>\n",
       "    <tr>\n",
       "      <th>1</th>\n",
       "      <td>4991</td>\n",
       "    </tr>\n",
       "    <tr>\n",
       "      <th>2</th>\n",
       "      <td>161</td>\n",
       "    </tr>\n",
       "  </tbody>\n",
       "</table>\n",
       "</div>"
      ],
      "text/plain": [
       "               User number\n",
       "Cluster Label             \n",
       "0                     3654\n",
       "1                     4991\n",
       "2                      161"
      ]
     },
     "execution_count": 13,
     "metadata": {},
     "output_type": "execute_result"
    }
   ],
   "source": [
    "print(\"Số lượng khách hàng mỗi cụm\")\n",
    "kmean_cluster_df.groupby('Cluster Label').count()"
   ]
  },
  {
   "cell_type": "markdown",
   "id": "02ab7239",
   "metadata": {},
   "source": [
    "### Fuzzy C-Mean"
   ]
  },
  {
   "cell_type": "code",
   "execution_count": 14,
   "id": "aecb727b",
   "metadata": {},
   "outputs": [],
   "source": [
    "def make_fuzzycmean(k: int):\n",
    "    model = FCM(n_clusters=k, random_state=rs)\n",
    "    model.fit(X)\n",
    "    cluster_labels = model.predict(X)\n",
    "    sil_score = silhouette_score(X, cluster_labels)\n",
    "    print(f\"K: {k} done\")\n",
    "    return dict(\n",
    "        k=k,\n",
    "        cluster_labels=cluster_labels,\n",
    "        sil_score=sil_score\n",
    "    )"
   ]
  },
  {
   "cell_type": "markdown",
   "id": "b0b59bf6",
   "metadata": {},
   "source": [
    "PLOT FUZZY C-MEANS Model"
   ]
  },
  {
   "cell_type": "code",
   "execution_count": 15,
   "id": "30cac275",
   "metadata": {},
   "outputs": [
    {
     "name": "stdout",
     "output_type": "stream",
     "text": [
      "K: 3 done\n"
     ]
    },
    {
     "data": {
      "image/png": "[encoded data removed]",
      "text/plain": [
       "<Figure size 432x288 with 1 Axes>"
      ]
     },
     "metadata": {
      "needs_background": "light"
     },
     "output_type": "display_data"
    }
   ],
   "source": [
    "fuzzycmean_final_cluster = [make_fuzzycmean(k) for k in range_k]\n",
    "sil_scores = np.array([i['sil_score'] for i in fuzzycmean_final_cluster])\n",
    "plt.plot(range_k, sil_scores)\n",
    "plt.scatter(range_k, sil_scores)\n",
    "plt.xlabel('Number of clusters')\n",
    "plt.ylabel('Silhouette score')\n",
    "plt.savefig('Fuzzy C-Mean sil plot.png')\n",
    "plt.show()"
   ]
  },
  {
   "cell_type": "code",
   "execution_count": 16,
   "id": "657e8dd3",
   "metadata": {},
   "outputs": [
    {
     "data": {
      "text/plain": [
       "[{'k': 3,\n",
       "  'cluster_labels': array([0, 1, 0, ..., 0, 0, 2]),\n",
       "  'sil_score': 0.5037416662956539}]"
      ]
     },
     "execution_count": 16,
     "metadata": {},
     "output_type": "execute_result"
    }
   ],
   "source": [
    "# sort out according to decreasing sihouette scores\n",
    "sorted_fuzzycmean_final_cluster = sorted(fuzzycmean_final_cluster, key=lambda x: x['sil_score'], reverse=True)\n",
    "sorted_fuzzycmean_final_cluster"
   ]
  },
  {
   "cell_type": "code",
   "execution_count": 17,
   "id": "76e8e5b1",
   "metadata": {},
   "outputs": [
    {
     "name": "stdout",
     "output_type": "stream",
     "text": [
      "Số cụm tốt nhất cho KMeans là 3 với giá trị sihouette: 0.5037416662956539\n"
     ]
    }
   ],
   "source": [
    "# Find the best value\n",
    "best_k_fuzzycmean = sorted_fuzzycmean_final_cluster[0]['k']\n",
    "fuzzycmean_cluster_labels = sorted_fuzzycmean_final_cluster[0]['cluster_labels']\n",
    "fuzzycmean_sil_score = sorted_fuzzycmean_final_cluster[0]['sil_score']\n",
    "print(f'Số cụm tốt nhất cho KMeans là {best_k_fuzzycmean} với giá trị sihouette: {fuzzycmean_sil_score}')"
   ]
  },
  {
   "cell_type": "code",
   "execution_count": 18,
   "id": "f041c994-9a78-422f-810d-c17fe68db2af",
   "metadata": {},
   "outputs": [
    {
     "name": "stdout",
     "output_type": "stream",
     "text": [
      "Chạy model với K = 3 cho Fuzzy C-Mean\n"
     ]
    }
   ],
   "source": [
    "# chạy model\n",
    "print(f\"Chạy model với K = {best_k_fuzzycmean} cho Fuzzy C-Mean\")\n",
    "fcm_model = FCM(n_clusters=best_k_fuzzycmean, random_state=rs)\n",
    "fcm_model.fit(X)"
   ]
  },
  {
   "cell_type": "code",
   "execution_count": 19,
   "id": "1a21ff65-7dbb-45a7-89ed-2e4132d97c80",
   "metadata": {},
   "outputs": [],
   "source": [
    "# Save the model of FCM\n",
    "with open('../../data/fuzzycmean_model.pkl', 'wb') as f:\n",
    "    pickle.dump(fcm_model, f, pickle.HIGHEST_PROTOCOL)\n",
    "\n",
    "fuzzycmean_cluster_df = pd.DataFrame(\n",
    "    {'User number': cust_id, 'Cluster Label': fuzzycmean_cluster_labels}\n",
    ")\n",
    "df_merged_fuzzy = df.merge(fuzzycmean_cluster_df, on='User number')\n",
    "df_merged_fuzzy.to_csv('../../data/cluster_fuzzycmean.csv', index=False)"
   ]
  },
  {
   "cell_type": "code",
   "execution_count": 20,
   "id": "9e824207-ecee-42cf-bb2b-70d4d359fd48",
   "metadata": {},
   "outputs": [
    {
     "name": "stdout",
     "output_type": "stream",
     "text": [
      "Trung bình giá trị trên mỗi cụm của Fuzzy C-Mean\n"
     ]
    },
    {
     "data": {
      "text/html": [
       "<div>\n",
       "<style scoped>\n",
       "    .dataframe tbody tr th:only-of-type {\n",
       "        vertical-align: middle;\n",
       "    }\n",
       "\n",
       "    .dataframe tbody tr th {\n",
       "        vertical-align: top;\n",
       "    }\n",
       "\n",
       "    .dataframe thead th {\n",
       "        text-align: right;\n",
       "    }\n",
       "</style>\n",
       "<table border=\"1\" class=\"dataframe\">\n",
       "  <thead>\n",
       "    <tr style=\"text-align: right;\">\n",
       "      <th></th>\n",
       "      <th>Recency</th>\n",
       "      <th>Frequency</th>\n",
       "      <th>Moneytary</th>\n",
       "    </tr>\n",
       "    <tr>\n",
       "      <th>Cluster Label</th>\n",
       "      <th></th>\n",
       "      <th></th>\n",
       "      <th></th>\n",
       "    </tr>\n",
       "  </thead>\n",
       "  <tbody>\n",
       "    <tr>\n",
       "      <th>0</th>\n",
       "      <td>0.020131</td>\n",
       "      <td>0.001805</td>\n",
       "      <td>0.013225</td>\n",
       "    </tr>\n",
       "    <tr>\n",
       "      <th>1</th>\n",
       "      <td>0.062664</td>\n",
       "      <td>0.000628</td>\n",
       "      <td>0.010668</td>\n",
       "    </tr>\n",
       "    <tr>\n",
       "      <th>2</th>\n",
       "      <td>0.111405</td>\n",
       "      <td>0.000201</td>\n",
       "      <td>0.009454</td>\n",
       "    </tr>\n",
       "  </tbody>\n",
       "</table>\n",
       "</div>"
      ],
      "text/plain": [
       "                Recency  Frequency  Moneytary\n",
       "Cluster Label                                \n",
       "0              0.020131   0.001805   0.013225\n",
       "1              0.062664   0.000628   0.010668\n",
       "2              0.111405   0.000201   0.009454"
      ]
     },
     "execution_count": 20,
     "metadata": {},
     "output_type": "execute_result"
    }
   ],
   "source": [
    "print(\"Trung bình giá trị trên mỗi cụm của Fuzzy C-Mean\")\n",
    "df_merged_fuzzy.groupby('Cluster Label').mean().iloc[:, 1:]"
   ]
  },
  {
   "cell_type": "code",
   "execution_count": 21,
   "id": "fbeb9764-d963-490d-8a57-8c550649ae6c",
   "metadata": {},
   "outputs": [
    {
     "name": "stdout",
     "output_type": "stream",
     "text": [
      "Số lượng khách hàng mỗi cụm\n"
     ]
    },
    {
     "data": {
      "text/html": [
       "<div>\n",
       "<style scoped>\n",
       "    .dataframe tbody tr th:only-of-type {\n",
       "        vertical-align: middle;\n",
       "    }\n",
       "\n",
       "    .dataframe tbody tr th {\n",
       "        vertical-align: top;\n",
       "    }\n",
       "\n",
       "    .dataframe thead th {\n",
       "        text-align: right;\n",
       "    }\n",
       "</style>\n",
       "<table border=\"1\" class=\"dataframe\">\n",
       "  <thead>\n",
       "    <tr style=\"text-align: right;\">\n",
       "      <th></th>\n",
       "      <th>User number</th>\n",
       "    </tr>\n",
       "    <tr>\n",
       "      <th>Cluster Label</th>\n",
       "      <th></th>\n",
       "    </tr>\n",
       "  </thead>\n",
       "  <tbody>\n",
       "    <tr>\n",
       "      <th>0</th>\n",
       "      <td>3680</td>\n",
       "    </tr>\n",
       "    <tr>\n",
       "      <th>1</th>\n",
       "      <td>2532</td>\n",
       "    </tr>\n",
       "    <tr>\n",
       "      <th>2</th>\n",
       "      <td>2594</td>\n",
       "    </tr>\n",
       "  </tbody>\n",
       "</table>\n",
       "</div>"
      ],
      "text/plain": [
       "               User number\n",
       "Cluster Label             \n",
       "0                     3680\n",
       "1                     2532\n",
       "2                     2594"
      ]
     },
     "execution_count": 21,
     "metadata": {},
     "output_type": "execute_result"
    }
   ],
   "source": [
    "print(\"Số lượng khách hàng mỗi cụm\")\n",
    "fuzzycmean_cluster_df.groupby('Cluster Label').count()"
   ]
  }
 ],
 "metadata": {
  "interpreter": {
   "hash": "aee8b7b246df8f9039afb4144a1f6fd8d2ca17a180786b69acc140d282b71a49"
  },
  "kernelspec": {
   "display_name": "Python 3.8.6rc1 64-bit",
   "language": "python",
   "name": "python3"
  },
  "language_info": {
   "codemirror_mode": {
    "name": "ipython",
    "version": 3
   },
   "file_extension": ".py",
   "mimetype": "text/x-python",
   "name": "python",
   "nbconvert_exporter": "python",
   "pygments_lexer": "ipython3",
   "version": "3.8.6rc1"
  }
 },
 "nbformat": 4,
 "nbformat_minor": 5
}
