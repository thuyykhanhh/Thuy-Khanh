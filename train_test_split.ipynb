{
 "cells": [
  {
   "cell_type": "code",
   "execution_count": 9,
   "id": "9f2fe10e-410a-462a-a83f-a2092ed29834",
   "metadata": {},
   "outputs": [],
   "source": [
    "import pandas as pd\n",
    "from sklearn.model_selection import train_test_split"
   ]
  },
  {
   "cell_type": "code",
   "execution_count": 10,
   "id": "733ec28f-f84b-4953-bc58-5ac93e49b6d3",
   "metadata": {},
   "outputs": [
    {
     "name": "stdout",
     "output_type": "stream",
     "text": [
      "Có tất cả 3 label\n",
      "[2 0 1]\n"
     ]
    }
   ],
   "source": [
    "kmean_data = pd.read_csv('../../data/cluster_kmeans.csv')\n",
    "print(\"Có tất cả\", kmean_data['Cluster Label'].nunique(), \"label\")\n",
    "print(kmean_data['Cluster Label'].unique())"
   ]
  },
  {
   "cell_type": "code",
   "execution_count": 11,
   "id": "02736cda-2428-4513-8659-a4dd9202071f",
   "metadata": {},
   "outputs": [
    {
     "data": {
      "text/plain": [
       "((5152, 5), (3654, 5))"
      ]
     },
     "execution_count": 11,
     "metadata": {},
     "output_type": "execute_result"
    }
   ],
   "source": [
    "list_cluster_train = [1,2]\n",
    "list_cluster_test = [0]\n",
    "rfm_train = kmean_data[kmean_data['Cluster Label'].isin(list_cluster_train)]\n",
    "rfm_test = kmean_data[kmean_data['Cluster Label'].isin(list_cluster_test)]\n",
    "\n",
    "rfm_train.shape, rfm_test.shape"
   ]
  },
  {
   "cell_type": "code",
   "execution_count": 12,
   "id": "7de8303f-af1e-4605-8be4-0f662f07422d",
   "metadata": {},
   "outputs": [],
   "source": [
    "rfm_train.to_csv('../../data/rfm_train.csv', index=False)\n",
    "rfm_test.to_csv('../../data/rfm_test.csv', index=False)\n",
    "\n",
    "data_processed = pd.read_csv('../../data/data_processed.csv')\n",
    "\n",
    "train = data_processed[data_processed['User number'].isin(rfm_train['User number'])]\n",
    "test = data_processed[data_processed['User number'].isin(rfm_test['User number'])]\n",
    "\n",
    "train.to_csv('../../data/train_processed.csv', index=False)\n",
    "test.to_csv('../../data/test_processed.csv', index=False)"
   ]
  }
 ],
 "metadata": {
  "interpreter": {
   "hash": "aee8b7b246df8f9039afb4144a1f6fd8d2ca17a180786b69acc140d282b71a49"
  },
  "kernelspec": {
   "display_name": "Python 3.8.6rc1 64-bit",
   "language": "python",
   "name": "python3"
  },
  "language_info": {
   "codemirror_mode": {
    "name": "ipython",
    "version": 3
   },
   "file_extension": ".py",
   "mimetype": "text/x-python",
   "name": "python",
   "nbconvert_exporter": "python",
   "pygments_lexer": "ipython3",
   "version": "3.8.6rc1"
  }
 },
 "nbformat": 4,
 "nbformat_minor": 5
}
