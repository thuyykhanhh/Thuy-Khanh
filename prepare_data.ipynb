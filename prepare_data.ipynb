{
 "cells": [
  {
   "cell_type": "markdown",
   "id": "004e9e13-04f3-4eb8-b8cd-95a7b29b8c57",
   "metadata": {},
   "source": [
    "File này để chuẩn bị dữ liệu, chia train là 2020, test là 2021"
   ]
  },
  {
   "cell_type": "code",
   "execution_count": 1,
   "id": "16c31341-2cc4-433e-8176-48a841dbbf0d",
   "metadata": {},
   "outputs": [],
   "source": [
    "import pandas as pd\n",
    "import datetime as dt\n",
    "from sklearn.preprocessing import MinMaxScaler\n",
    "from sklearn.model_selection import train_test_split\n",
    "import pickle\n",
    "rs = 12"
   ]
  },
  {
   "cell_type": "code",
   "execution_count": 2,
   "id": "8a76aeca-382e-425d-8072-e9246515844e",
   "metadata": {},
   "outputs": [],
   "source": [
    "df = pd.read_excel('../../data/DataFile.xlsx')\n",
    "df['DateKey'] = df['DateKey'].map(lambda x: f'{str(x)[:4]}-{str(x)[4:6]}-{str(x)[6:]}')\n",
    "df['DateKey'] = pd.to_datetime(df['DateKey'])"
   ]
  },
  {
   "cell_type": "code",
   "execution_count": 3,
   "id": "672ce8e4-e0fd-4631-b4cf-b04bb45d7a77",
   "metadata": {},
   "outputs": [
    {
     "data": {
      "text/plain": [
       "(19804, 7)"
      ]
     },
     "execution_count": 3,
     "metadata": {},
     "output_type": "execute_result"
    }
   ],
   "source": [
    "# chỉ lấy 2020\n",
    "df = df[df['DateKey'].dt.year == 2020]\n",
    "df.to_csv('../../data/data.csv', index=False)\n",
    "df.shape"
   ]
  },
  {
   "cell_type": "markdown",
   "id": "45ccb913-c9e1-423b-a522-04f6af7a87d9",
   "metadata": {
    "tags": []
   },
   "source": [
    "# Xử lý dữ liệu"
   ]
  },
  {
   "cell_type": "code",
   "execution_count": 4,
   "id": "d0b30f2f-5d46-4870-bcb8-d030c2d504c5",
   "metadata": {},
   "outputs": [],
   "source": [
    "%run ../../processing_data.py ../../data/data.csv ../../data/data_processed.csv"
   ]
  },
  {
   "cell_type": "markdown",
   "id": "cbc8fbfc-2b56-4560-9dda-c03b6e337bb5",
   "metadata": {},
   "source": [
    "# Tạo RFM data"
   ]
  },
  {
   "cell_type": "code",
   "execution_count": 5,
   "id": "97f12464-4329-4356-8cdb-7c94d1fff8f2",
   "metadata": {},
   "outputs": [],
   "source": [
    "data_processed = pd.read_csv('../../data/data_processed.csv', parse_dates=[0])"
   ]
  },
  {
   "cell_type": "code",
   "execution_count": 6,
   "id": "cbad4876",
   "metadata": {},
   "outputs": [
    {
     "data": {
      "text/html": [
       "<div>\n",
       "<style scoped>\n",
       "    .dataframe tbody tr th:only-of-type {\n",
       "        vertical-align: middle;\n",
       "    }\n",
       "\n",
       "    .dataframe tbody tr th {\n",
       "        vertical-align: top;\n",
       "    }\n",
       "\n",
       "    .dataframe thead th {\n",
       "        text-align: right;\n",
       "    }\n",
       "</style>\n",
       "<table border=\"1\" class=\"dataframe\">\n",
       "  <thead>\n",
       "    <tr style=\"text-align: right;\">\n",
       "      <th></th>\n",
       "      <th>DateKey</th>\n",
       "      <th>User number</th>\n",
       "      <th>Full name</th>\n",
       "      <th>Product Name</th>\n",
       "      <th>Product Type</th>\n",
       "      <th>Quantity</th>\n",
       "      <th>Regular price</th>\n",
       "    </tr>\n",
       "  </thead>\n",
       "  <tbody>\n",
       "    <tr>\n",
       "      <th>0</th>\n",
       "      <td>2020-12-31</td>\n",
       "      <td>101010971</td>\n",
       "      <td>Nguyễn Mai</td>\n",
       "      <td>Membership_3M</td>\n",
       "      <td>Membership</td>\n",
       "      <td>1</td>\n",
       "      <td>837000</td>\n",
       "    </tr>\n",
       "    <tr>\n",
       "      <th>1</th>\n",
       "      <td>2020-10-09</td>\n",
       "      <td>105001744</td>\n",
       "      <td>Bui Thi Thanh Tuyền</td>\n",
       "      <td>Fitto Superfit</td>\n",
       "      <td>ProductGood</td>\n",
       "      <td>1</td>\n",
       "      <td>35000</td>\n",
       "    </tr>\n",
       "    <tr>\n",
       "      <th>2</th>\n",
       "      <td>2020-11-30</td>\n",
       "      <td>101009401</td>\n",
       "      <td>Dat Luong</td>\n",
       "      <td>Membership_6M</td>\n",
       "      <td>Membership</td>\n",
       "      <td>1</td>\n",
       "      <td>1600000</td>\n",
       "    </tr>\n",
       "    <tr>\n",
       "      <th>3</th>\n",
       "      <td>2020-12-14</td>\n",
       "      <td>101001673</td>\n",
       "      <td>Lưu Mộc Lợi</td>\n",
       "      <td>Membership_2M</td>\n",
       "      <td>Membership</td>\n",
       "      <td>1</td>\n",
       "      <td>558000</td>\n",
       "    </tr>\n",
       "    <tr>\n",
       "      <th>4</th>\n",
       "      <td>2020-12-16</td>\n",
       "      <td>101011036</td>\n",
       "      <td>Nguyen Nhu Quynh</td>\n",
       "      <td>Membership_12M</td>\n",
       "      <td>Membership</td>\n",
       "      <td>1</td>\n",
       "      <td>2800000</td>\n",
       "    </tr>\n",
       "  </tbody>\n",
       "</table>\n",
       "</div>"
      ],
      "text/plain": [
       "     DateKey  User number            Full name    Product Name Product Type  \\\n",
       "0 2020-12-31    101010971           Nguyễn Mai   Membership_3M   Membership   \n",
       "1 2020-10-09    105001744  Bui Thi Thanh Tuyền  Fitto Superfit  ProductGood   \n",
       "2 2020-11-30    101009401            Dat Luong   Membership_6M   Membership   \n",
       "3 2020-12-14    101001673          Lưu Mộc Lợi   Membership_2M   Membership   \n",
       "4 2020-12-16    101011036     Nguyen Nhu Quynh  Membership_12M   Membership   \n",
       "\n",
       "   Quantity  Regular price  \n",
       "0         1         837000  \n",
       "1         1          35000  \n",
       "2         1        1600000  \n",
       "3         1         558000  \n",
       "4         1        2800000  "
      ]
     },
     "execution_count": 6,
     "metadata": {},
     "output_type": "execute_result"
    }
   ],
   "source": [
    "data_processed.head()"
   ]
  },
  {
   "cell_type": "code",
   "execution_count": 7,
   "id": "ad0a29f0",
   "metadata": {},
   "outputs": [
    {
     "data": {
      "text/plain": [
       "count             19215\n",
       "unique               32\n",
       "top       Membership_1M\n",
       "freq               7697\n",
       "Name: Product Name, dtype: object"
      ]
     },
     "execution_count": 7,
     "metadata": {},
     "output_type": "execute_result"
    }
   ],
   "source": [
    "data_processed['Product Name'].describe()"
   ]
  },
  {
   "cell_type": "code",
   "execution_count": 8,
   "id": "199d9e94-4c55-4d2a-b3ab-be18d21b7b1c",
   "metadata": {},
   "outputs": [],
   "source": [
    "\n",
    "recency_unit = 1\n",
    "snapshot_date = dt.datetime(year=2021, month=12, day=31)\n",
    "\n",
    "def get_recency(d):\n",
    "    return (snapshot_date - d.max()).days // recency_unit\n",
    "\n",
    "# recency: lấy ngày snapshot - ngày mua cuối\n",
    "# frequency: tổng quantity\n",
    "# monetary: số tiền mua\n",
    "\n",
    "scaler = MinMaxScaler()\n",
    "\n",
    "def get_rfm_data(dataframe):\n",
    "    dataframe = (dataframe\n",
    "            .groupby(['User number'])\n",
    "            .agg({'DateKey': get_recency, 'Quantity': 'count', 'Regular price': 'sum'})\n",
    "    )\n",
    "    user_id = dataframe.index\n",
    "    rfm = dataframe.values\n",
    "    rfm = scaler.fit_transform(rfm) # normalize\n",
    "    return pd.DataFrame(rfm, index=user_id, columns=['Recency', 'Frequency', 'Moneytary'])"
   ]
  },
  {
   "cell_type": "code",
   "execution_count": 9,
   "id": "764d1008-ad89-4667-b3b9-b94e0a706695",
   "metadata": {},
   "outputs": [
    {
     "data": {
      "text/plain": [
       "(8806, 3)"
      ]
     },
     "execution_count": 9,
     "metadata": {},
     "output_type": "execute_result"
    }
   ],
   "source": [
    "rfm_data = get_rfm_data(data_processed)\n",
    "with open('scaler.pkl', 'wb') as f:\n",
    "    pickle.dump(scaler, f, protocol=pickle.HIGHEST_PROTOCOL)\n",
    "\n",
    "\n",
    "rfm_data.to_csv('../../data/rfm_data.csv')\n",
    "rfm_data.shape"
   ]
  }
 ],
 "metadata": {
  "interpreter": {
   "hash": "aee8b7b246df8f9039afb4144a1f6fd8d2ca17a180786b69acc140d282b71a49"
  },
  "kernelspec": {
   "display_name": "Python 3.8.6rc1 64-bit",
   "language": "python",
   "name": "python3"
  },
  "language_info": {
   "codemirror_mode": {
    "name": "ipython",
    "version": 3
   },
   "file_extension": ".py",
   "mimetype": "text/x-python",
   "name": "python",
   "nbconvert_exporter": "python",
   "pygments_lexer": "ipython3",
   "version": "3.8.6rc1"
  }
 },
 "nbformat": 4,
 "nbformat_minor": 5
}
